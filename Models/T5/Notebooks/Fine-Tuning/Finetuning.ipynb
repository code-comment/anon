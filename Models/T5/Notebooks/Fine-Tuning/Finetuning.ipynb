{
 "cells": [
  {
   "cell_type": "code",
   "execution_count": null,
   "metadata": {
    "id": "2h1MRzBLtex2"
   },
   "outputs": [],
   "source": [
    "%tensorflow_version 2.x\n",
    "!pip3 install --upgrade pip\n",
    "#!pip install -qU t5\n",
    "!pip3 install git+https://github.com/google-research/text-to-text-transfer-transformer.git #extra_id_x support\n",
    "\n",
    "import functools\n",
    "import os\n",
    "import time\n",
    "import warnings\n",
    "warnings.filterwarnings(\"ignore\", category=DeprecationWarning)\n",
    "\n",
    "import tensorflow.compat.v1 as tf\n",
    "import tensorflow_datasets as tfds\n",
    "\n",
    "import t5\n",
    "\n",
    "#Set the base dir(Google cloud bucket)\n",
    "BASE_DIR = \"gs://example_comment\" \n",
    "\n",
    "if not BASE_DIR or BASE_DIR == \"gs://\":\n",
    "  raise ValueError(\"You must enter a BASE_DIR.\")\n",
    "ON_CLOUD = True\n",
    "\n",
    "\n",
    "if ON_CLOUD:\n",
    "  import tensorflow_gcs_config\n",
    "  from google.colab import auth\n",
    "  # Set credentials for GCS reading/writing from Colab and TPU.\n",
    "  TPU_TOPOLOGY = \"2x2\"\n",
    "  try:\n",
    "    tpu = tf.distribute.cluster_resolver.TPUClusterResolver()  # TPU detection\n",
    "    TPU_ADDRESS = tpu.get_master()\n",
    "    print('Running on TPU:', TPU_ADDRESS)\n",
    "  except ValueError:\n",
    "    raise BaseException('ERROR: Not connected to a TPU runtime; please see the previous cell in this notebook for instructions!')\n",
    "  auth.authenticate_user()\n",
    "  tf.config.experimental_connect_to_host(TPU_ADDRESS)\n",
    "  tensorflow_gcs_config.configure_gcs_from_colab_auth()\n",
    "\n",
    "tf.disable_v2_behavior()\n",
    "\n",
    "# Improve logging.\n",
    "from contextlib import contextmanager\n",
    "import logging as py_logging\n",
    "\n",
    "if ON_CLOUD:\n",
    "  tf.get_logger().propagate = False\n",
    "  py_logging.root.setLevel('INFO')\n",
    "\n",
    "@contextmanager\n",
    "def tf_verbosity_level(level):\n",
    "  og_level = tf.logging.get_verbosity()\n",
    "  tf.logging.set_verbosity(level)\n",
    "  yield\n",
    "  tf.logging.set_verbosity(og_level)"
   ]
  },
  {
   "cell_type": "code",
   "execution_count": null,
   "metadata": {
    "id": "glLJUm1dxIiH"
   },
   "outputs": [],
   "source": [
    "nq_tsv_path_javadoc = {\n",
    "    \"train\":      'gs://example_comment/datasets/training_javadoc.tsv',\n",
    "    \"validation\": 'gs://example_comment/datasets/test_javadoc.tsv'\n",
    "}\n",
    "num_nq_examples_javadoc = dict(train=1398135, validation=175084)"
   ]
  },
  {
   "cell_type": "code",
   "execution_count": null,
   "metadata": {
    "id": "_-B3_th9eP5y"
   },
   "outputs": [],
   "source": [
    "nq_tsv_path_inside = {\n",
    "    \"train\":      'gs://example_comment/datasets/training_inside.tsv',\n",
    "    \"validation\": 'gs://example_comment/datasets/test_inside.tsv'\n",
    "}\n",
    "\n",
    "num_nq_examples_inside = dict(train=272994, validation=34138)"
   ]
  },
  {
   "cell_type": "code",
   "execution_count": null,
   "metadata": {
    "id": "PobLvzL18zzR"
   },
   "outputs": [],
   "source": [
    "from t5.data import postprocessors as t5_postprocessors\n",
    "from t5.seqio import Feature,SentencePieceVocabulary\n",
    "\n",
    "\n",
    "# # Set the path of sentencepiece model and vocab files\n",
    "# # Must be the same used for the pre-trained phase\n",
    "vocab_model_path = 'gs://example_comment/dl4se.model'\n",
    "vocab_path = 'gs://example_comment/dl4se.vocab'\n",
    "\n",
    "\n",
    "TaskRegistry = t5.data.TaskRegistry\n",
    "TfdsTask = t5.data.TfdsTask\n",
    "\n",
    "\n",
    "def get_default_vocabulary():\n",
    "  return SentencePieceVocabulary(vocab_model_path, 100)\n",
    "\n",
    "DEFAULT_OUTPUT_FEATURES = {\n",
    "    \"inputs\": Feature(\n",
    "        vocabulary=get_default_vocabulary(), add_eos=True, required=False),\n",
    "\n",
    "    \"targets\": Feature(\n",
    "        vocabulary=get_default_vocabulary(), add_eos=True)\n",
    "}"
   ]
  },
  {
   "cell_type": "code",
   "execution_count": null,
   "metadata": {
    "colab": {
     "base_uri": "https://localhost:8080/"
    },
    "id": "K0NTLbyXvkCs",
    "outputId": "b6bdd8af-6899-4a4b-ab26-596d9015889c"
   },
   "outputs": [],
   "source": [
    "def nq_dataset_javadoc(split, shuffle_files=True):\n",
    "  # We only have one file for each split.\n",
    "  del shuffle_files\n",
    "\n",
    "   # Load lines from the text file as examples.\n",
    "\n",
    "  ds = tf.data.TextLineDataset(nq_tsv_path_javadoc[split])\n",
    "  ds = ds.map(\n",
    "      functools.partial(tf.io.decode_csv, record_defaults=[\"string\",\"string\"],\n",
    "                        field_delim=\"\\t\", use_quote_delim=True),\n",
    "      num_parallel_calls=tf.data.experimental.AUTOTUNE)\n",
    "  \n",
    "  ds = ds.map(lambda *ex: dict(zip([\"input\", \"output\"], ex)))\n",
    "  return ds\n",
    "\n",
    "print(\"A few raw train examples...\")\n",
    "for ex in tfds.as_numpy(nq_dataset_javadoc(\"train\").take(5)):\n",
    "  print(ex)"
   ]
  },
  {
   "cell_type": "code",
   "execution_count": null,
   "metadata": {
    "id": "4bJZPQgjxKZ1"
   },
   "outputs": [],
   "source": [
    "def javadoc_preprocessing(ds):\n",
    "  \n",
    "  def to_inputs_and_targets(ex):\n",
    "\n",
    "        inputs = tf.strings.join(['complete javadoc comment:' + ex['input']], separator=' ')\n",
    "        class_label = tf.strings.join([ex['output']], separator=' ')\n",
    "        return {'inputs': inputs, 'targets': class_label }\n",
    "    \n",
    "  return ds.map(to_inputs_and_targets, \n",
    "                num_parallel_calls=tf.data.experimental.AUTOTUNE)"
   ]
  },
  {
   "cell_type": "code",
   "execution_count": null,
   "metadata": {
    "colab": {
     "base_uri": "https://localhost:8080/"
    },
    "id": "h3jAg8Zhx_Ep",
    "outputId": "5efe46ea-e20e-4f08-8899-a4aeebf6e5ad"
   },
   "outputs": [],
   "source": [
    "t5.data.TaskRegistry.remove('javadoc')\n",
    "t5.data.TaskRegistry.add(\n",
    "    \"javadoc\",\n",
    "    dataset_fn=nq_dataset_javadoc,\n",
    "    splits=[\"train\", \"validation\"],\n",
    "    text_preprocessor=[javadoc_preprocessing],\n",
    "    output_features = DEFAULT_OUTPUT_FEATURES,\n",
    "    metric_fns=[t5.evaluation.metrics.accuracy],\n",
    "    num_input_examples=num_nq_examples_javadoc\n",
    ")"
   ]
  },
  {
   "cell_type": "code",
   "execution_count": null,
   "metadata": {
    "colab": {
     "base_uri": "https://localhost:8080/"
    },
    "id": "e71p9JIFyYHm",
    "outputId": "c30b3f8c-809f-456d-82ce-99785f8dcbbb"
   },
   "outputs": [],
   "source": [
    "nq_task = t5.data.TaskRegistry.get(\"javadoc\")\n",
    "ds = nq_task.get_dataset(split=\"train\", sequence_length={\"inputs\": 256, \"targets\": 256})\n",
    "print(\"A few preprocessed training examples...\")\n",
    "for ex in tfds.as_numpy(ds.take(5)):\n",
    "  print(ex)\n"
   ]
  },
  {
   "cell_type": "code",
   "execution_count": null,
   "metadata": {
    "colab": {
     "base_uri": "https://localhost:8080/"
    },
    "id": "UNi7HPiOz27q",
    "outputId": "54c1d319-5033-40ad-c020-ccf226d367f3"
   },
   "outputs": [],
   "source": [
    "def nq_dataset_inside(split, shuffle_files=False):\n",
    "  # We only have one file for each split.\n",
    "  del shuffle_files\n",
    "\n",
    "  # Load lines from the text file as examples.\n",
    "  ds = tf.data.TextLineDataset(nq_tsv_path_inside[split])\n",
    "  ds = ds.map(\n",
    "      functools.partial(tf.io.decode_csv, record_defaults=[\"string\",\"string\"],\n",
    "                        field_delim=\"\\t\", use_quote_delim=True),\n",
    "      num_parallel_calls=tf.data.experimental.AUTOTUNE)\n",
    "  \n",
    "  ds = ds.map(lambda *ex: dict(zip([\"input\", \"output\"], ex)))\n",
    "  return ds\n",
    "\n",
    "print(\"A few raw valid examples...\")\n",
    "for ex in tfds.as_numpy(nq_dataset_inside(\"validation\").take(5)):\n",
    "  print(ex)\n"
   ]
  },
  {
   "cell_type": "code",
   "execution_count": null,
   "metadata": {
    "id": "VvDAbgNY0B4Y"
   },
   "outputs": [],
   "source": [
    "def inside_preprocessing(ds):\n",
    "  \n",
    "  def to_inputs_and_targets(ex):\n",
    "\n",
    "        inputs = tf.strings.join(['complete block/inside comment:' + ex['input']], separator=' ')\n",
    "        class_label = tf.strings.join([ex['output']], separator=' ')\n",
    "        return {'inputs': inputs, 'targets': class_label }\n",
    "    \n",
    "  return ds.map(to_inputs_and_targets, \n",
    "                num_parallel_calls=tf.data.experimental.AUTOTUNE)"
   ]
  },
  {
   "cell_type": "code",
   "execution_count": null,
   "metadata": {
    "colab": {
     "base_uri": "https://localhost:8080/"
    },
    "id": "-Mm6AQfw0INC",
    "outputId": "ff4b945c-67df-437f-f894-7bc5c8c9754a"
   },
   "outputs": [],
   "source": [
    "#Create a new training task\n",
    "t5.data.TaskRegistry.remove('inside')\n",
    "t5.data.TaskRegistry.add(\n",
    "    \"inside\",\n",
    "    dataset_fn=nq_dataset_inside,\n",
    "    splits=[\"train\", \"validation\"],\n",
    "    text_preprocessor=[inside_preprocessing],\n",
    "    output_features = DEFAULT_OUTPUT_FEATURES,\n",
    "    metric_fns=[t5.evaluation.metrics.accuracy],\n",
    "    num_input_examples=num_nq_examples_inside\n",
    ")"
   ]
  },
  {
   "cell_type": "code",
   "execution_count": null,
   "metadata": {
    "colab": {
     "base_uri": "https://localhost:8080/"
    },
    "id": "qnf25qt10Wkl",
    "outputId": "d2204bbb-8738-482f-c4bf-d929784dfaea"
   },
   "outputs": [],
   "source": [
    "nq_task = t5.data.TaskRegistry.get(\"inside\")\n",
    "ds = nq_task.get_dataset(split=\"train\", sequence_length={\"inputs\": 256, \"targets\": 256})\n",
    "print(\"A few preprocessed training examples...\")\n",
    "for ex in tfds.as_numpy(ds.take(5)):\n",
    "  print(ex)\n",
    "\n",
    "#SECOND TASK CREATED"
   ]
  },
  {
   "cell_type": "code",
   "execution_count": null,
   "metadata": {
    "colab": {
     "base_uri": "https://localhost:8080/"
    },
    "id": "cz1a1TxFNKmx",
    "outputId": "d2032c69-3f92-4d82-87eb-37bcb4a3ccd3"
   },
   "outputs": [],
   "source": [
    "def _rate_num_input_examples(task):\n",
    "  if \"train\" in task.splits:\n",
    "    return float(task.num_input_examples(\"train\"))\n",
    "  elif \"validation\" in task.splits:\n",
    "    return float(task.num_input_examples(\"validation\"))\n",
    "  else:\n",
    "    raise ValueError(\"Task %s does not have a train or validation split.\" % (task.name))\n",
    "\n",
    "\n",
    "t5.data.MixtureRegistry.remove(\"all_tasks\")\n",
    "t5.data.MixtureRegistry.add(\n",
    "    \"all_tasks\",\n",
    "    [\"javadoc\", \"inside\"],\n",
    "    default_rate=_rate_num_input_examples\n",
    "     #default_rate=1.0\n",
    ")"
   ]
  },
  {
   "cell_type": "code",
   "execution_count": null,
   "metadata": {
    "id": "_3Qx699vN302"
   },
   "outputs": [],
   "source": [
    "from mesh_tensorflow.transformer.learning_rate_schedules import slanted_triangular \n",
    "MODEL_SIZE = \"small\" \n",
    "\n",
    "MODEL_DIR = 'gs://example_comment/HP-Tuning/slanted'\n",
    "\n",
    "# Specify the pre-trained dir which must contain the pre-trained models, the operative_config.gin file and the checkpoint file as well\n",
    "PRETRAINED_DIR='gs://example_comment/pretrained_model_extra_id/'\n",
    "\n",
    "\n",
    "model_parallelism, train_batch_size, keep_checkpoint_max = {\n",
    "    \"small\": (1, 256, 16),\n",
    "    \"base\": (2, 128, 8),\n",
    "    \"large\": (8, 64, 4),\n",
    "    \"3B\": (8, 16, 1),\n",
    "    \"11B\": (8, 16, 1)}[MODEL_SIZE]\n",
    "\n",
    "tf.io.gfile.makedirs(MODEL_DIR)\n",
    "\n",
    "model = t5.models.MtfModel(\n",
    "    model_dir=MODEL_DIR,\n",
    "    tpu=TPU_ADDRESS,\n",
    "    tpu_topology=TPU_TOPOLOGY,\n",
    "    model_parallelism=model_parallelism,\n",
    "    batch_size=train_batch_size,\n",
    "    learning_rate_schedule = slanted_triangular,\n",
    "    sequence_length={\"inputs\": 256, \"targets\": 256},\n",
    "    save_checkpoints_steps=5000,\n",
    "    keep_checkpoint_max=keep_checkpoint_max if ON_CLOUD else None,\n",
    "    iterations_per_loop=100,\n",
    ")"
   ]
  },
  {
   "cell_type": "code",
   "execution_count": null,
   "metadata": {
    "colab": {
     "base_uri": "https://localhost:8080/"
    },
    "id": "6oHp5ScE7nf2",
    "outputId": "ac9c2724-e4dd-4b5d-c06c-0c8e7fe49c0f"
   },
   "outputs": [],
   "source": [
    "PATH_GIN_FILE = 'gs://example_comment/HP-Tuning/slanted/operative_config.gin'\n",
    "import gin\n",
    "\n",
    "with gin.unlock_config():\n",
    "    gin.parse_config_file(PATH_GIN_FILE)\n",
    "    #RUN FINE-TUNING\n",
    "    FINETUNE_STEPS = 500000\n",
    "    model.finetune(\n",
    "        mixture_or_task_name=\"all_tasks\",\n",
    "        pretrained_model_dir=MODEL_DIR,\n",
    "        finetune_steps=FINETUNE_STEPS\n",
    "    )\n"
   ]
  },
  {
   "cell_type": "code",
   "execution_count": null,
   "metadata": {
    "id": "NAo_rui4HXcT"
   },
   "outputs": [],
   "source": [
    "# Use a larger batch size for evaluation, which requires less memory.\n",
    "model.batch_size = 1024\n",
    "model.eval(\n",
    "    mixture_or_task_name=\"all_tasks\",\n",
    "    checkpoint_steps=-1 #evaluate only last checkpoint\n",
    ")"
   ]
  },
  {
   "cell_type": "code",
   "execution_count": null,
   "metadata": {
    "id": "fTr15bwE6YY-"
   },
   "outputs": [],
   "source": [
    "if ON_CLOUD:\n",
    "  %reload_ext tensorboard\n",
    "  import tensorboard as tb\n",
    "tb.notebook.start(\"--logdir \" + MODEL_DIR)"
   ]
  },
  {
   "cell_type": "code",
   "execution_count": null,
   "metadata": {
    "id": "bBXTPr0ke04I"
   },
   "outputs": [],
   "source": []
  }
 ],
 "metadata": {
  "accelerator": "TPU",
  "colab": {
   "collapsed_sections": [],
   "machine_shape": "hm",
   "name": "slanted.ipynb",
   "provenance": []
  },
  "kernelspec": {
   "display_name": "Python 3",
   "language": "python",
   "name": "python3"
  },
  "language_info": {
   "codemirror_mode": {
    "name": "ipython",
    "version": 3
   },
   "file_extension": ".py",
   "mimetype": "text/x-python",
   "name": "python",
   "nbconvert_exporter": "python",
   "pygments_lexer": "ipython3",
   "version": "3.8.3"
  }
 },
 "nbformat": 4,
 "nbformat_minor": 1
}
