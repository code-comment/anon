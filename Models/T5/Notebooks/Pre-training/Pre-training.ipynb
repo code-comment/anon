{
 "cells": [
  {
   "cell_type": "code",
   "execution_count": null,
   "metadata": {
    "cellView": "both",
    "colab": {
     "base_uri": "https://localhost:8080/"
    },
    "id": "kSChpBmA53GI",
    "outputId": "3e5dc35e-582a-47d5-b3d5-5d8cd73ade2d"
   },
   "outputs": [],
   "source": [
    "%tensorflow_version 2.x\n",
    "!pip3 install --upgrade pip\n",
    "#!pip install -qU t5\n",
    "!pip3 install git+https://github.com/google-research/text-to-text-transfer-transformer.git #extra_id_x support\n",
    "\n",
    "import functools\n",
    "import os\n",
    "import time\n",
    "import warnings\n",
    "warnings.filterwarnings(\"ignore\", category=DeprecationWarning)\n",
    "\n",
    "import tensorflow.compat.v1 as tf\n",
    "import tensorflow_datasets as tfds\n",
    "\n",
    "import t5\n",
    "\n",
    "#Set the base dir(Google cloud bucket)\n",
    "BASE_DIR = \"gs://comment_example\" \n",
    "\n",
    "if not BASE_DIR or BASE_DIR == \"gs://\":\n",
    "  raise ValueError(\"You must enter a BASE_DIR.\")\n",
    "ON_CLOUD = True\n",
    "\n",
    "\n",
    "if ON_CLOUD:\n",
    "  import tensorflow_gcs_config\n",
    "  from google.colab import auth\n",
    "  # Set credentials for GCS reading/writing from Colab and TPU.\n",
    "  TPU_TOPOLOGY = \"2x2\"\n",
    "  try:\n",
    "    tpu = tf.distribute.cluster_resolver.TPUClusterResolver()  # TPU detection\n",
    "    TPU_ADDRESS = tpu.get_master()\n",
    "    print('Running on TPU:', TPU_ADDRESS)\n",
    "  except ValueError:\n",
    "    raise BaseException('ERROR: Not connected to a TPU runtime; please see the previous cell in this notebook for instructions!')\n",
    "  auth.authenticate_user()\n",
    "  tf.config.experimental_connect_to_host(TPU_ADDRESS)\n",
    "  tensorflow_gcs_config.configure_gcs_from_colab_auth()\n",
    "\n",
    "tf.disable_v2_behavior()\n",
    "\n",
    "# Improve logging.\n",
    "from contextlib import contextmanager\n",
    "import logging as py_logging\n",
    "\n",
    "if ON_CLOUD:\n",
    "  tf.get_logger().propagate = False\n",
    "  py_logging.root.setLevel('INFO')\n",
    "\n",
    "@contextmanager\n",
    "def tf_verbosity_level(level):\n",
    "  og_level = tf.logging.get_verbosity()\n",
    "  tf.logging.set_verbosity(level)\n",
    "  yield\n",
    "  tf.logging.set_verbosity(og_level)"
   ]
  },
  {
   "cell_type": "code",
   "execution_count": null,
   "metadata": {
    "cellView": "both",
    "id": "p4UHw7Yo6GCK"
   },
   "outputs": [],
   "source": [
    "nq_tsv_path = {\n",
    "    \"train\":'gs://comment_example/datasets/pretrain.tsv'\n",
    "}"
   ]
  },
  {
   "cell_type": "code",
   "execution_count": null,
   "metadata": {
    "id": "k5DJVOe896Lw"
   },
   "outputs": [],
   "source": [
    "from t5.data import postprocessors as t5_postprocessors\n",
    "from t5.seqio import Feature,SentencePieceVocabulary\n",
    "\n",
    "\n",
    "# # Set the path of sentencepiece model and vocab files\n",
    "# # Must be the same used for the pre-trained phase\n",
    "vocab_model_path = 'gs://comment_example/dl4se.model'\n",
    "vocab_path = 'gs://comment_example/dl4se.vocab'\n",
    "\n",
    "\n",
    "TaskRegistry = t5.data.TaskRegistry\n",
    "TfdsTask = t5.data.TfdsTask\n",
    "\n",
    "\n",
    "def get_default_vocabulary():\n",
    "  return SentencePieceVocabulary(vocab_model_path, 100)\n",
    "\n",
    "DEFAULT_OUTPUT_FEATURES = {\n",
    "    \"inputs\": Feature(\n",
    "        vocabulary=get_default_vocabulary(), add_eos=True, required=False),\n",
    "\n",
    "    \"targets\": Feature(\n",
    "        vocabulary=get_default_vocabulary(), add_eos=True)\n",
    "}"
   ]
  },
  {
   "cell_type": "code",
   "execution_count": null,
   "metadata": {
    "colab": {
     "base_uri": "https://localhost:8080/"
    },
    "id": "ncBkh1fH7yh0",
    "outputId": "60fe426b-e82f-4a53-e553-aa36abd8aae9"
   },
   "outputs": [],
   "source": [
    "def nq_dataset_fn(split, shuffle_files=True):\n",
    "  # We only have one file for each split.\n",
    "  del shuffle_files\n",
    "\n",
    "   # Load lines from the text file as examples.\n",
    "\n",
    "  ds = tf.data.TextLineDataset(nq_tsv_path[split])\n",
    "  ds = ds.map(\n",
    "      functools.partial(tf.io.decode_csv, record_defaults=[\"string\",\"string\"],\n",
    "                        field_delim=\"\\t\", use_quote_delim=True),\n",
    "      num_parallel_calls=tf.data.experimental.AUTOTUNE)\n",
    "  \n",
    "  ds = ds.map(lambda *ex: dict(zip([\"input\", \"output\"], ex)))\n",
    "  return ds\n",
    "\n",
    "print(\"A few raw train examples...\")\n",
    "for ex in tfds.as_numpy(nq_dataset_fn(\"train\").take(5)):\n",
    "  print(ex)"
   ]
  },
  {
   "cell_type": "code",
   "execution_count": null,
   "metadata": {
    "id": "z998BqAT42eL"
   },
   "outputs": [],
   "source": [
    "def preprocessing(ds):\n",
    "  \n",
    "  def to_inputs_and_targets(ex):\n",
    "\n",
    "        inputs = tf.strings.join([ ex['input']], separator=' ')\n",
    "        class_label = tf.strings.join([ex['output']], separator=' ')\n",
    "        return {'inputs': inputs, 'targets': class_label }\n",
    "    \n",
    "  return ds.map(to_inputs_and_targets, num_parallel_calls=tf.data.experimental.AUTOTUNE)"
   ]
  },
  {
   "cell_type": "code",
   "execution_count": null,
   "metadata": {
    "colab": {
     "base_uri": "https://localhost:8080/"
    },
    "id": "Pq_ljAs373oK",
    "outputId": "cc0f2977-1ba3-47a7-bb0e-ff7b8c0ec1a2"
   },
   "outputs": [],
   "source": [
    "#Create a new training task\n",
    "t5.data.TaskRegistry.remove('pretraining')\n",
    "t5.data.TaskRegistry.add(\n",
    "    \"pretraining\",\n",
    "    dataset_fn=nq_dataset_fn,\n",
    "    splits=[\"train\", \"validation\"],\n",
    "    text_preprocessor=[preprocessing],\n",
    "    output_features = DEFAULT_OUTPUT_FEATURES,\n",
    "    metric_fns=[t5.evaluation.metrics.accuracy],\n",
    ")"
   ]
  },
  {
   "cell_type": "code",
   "execution_count": null,
   "metadata": {
    "colab": {
     "base_uri": "https://localhost:8080/"
    },
    "id": "XFAAvLfG7528",
    "outputId": "1d85a1cb-180e-46bc-d07c-2d2729475c59"
   },
   "outputs": [],
   "source": [
    "nq_task = t5.data.TaskRegistry.get(\"pretraining\")\n",
    "ds = nq_task.get_dataset(split=\"train\", sequence_length={\"inputs\": 256, \"targets\": 256})\n",
    "print(\"A few preprocessed training examples...\")\n",
    "for ex in tfds.as_numpy(ds.take(5)):\n",
    "  print(ex)"
   ]
  },
  {
   "cell_type": "code",
   "execution_count": null,
   "metadata": {
    "id": "YgvnbVWU78nz"
   },
   "outputs": [],
   "source": [
    "from mesh_tensorflow.transformer.learning_rate_schedules import learning_rate_schedule_noam\n",
    "\n",
    "#See https://github.com/google-research/text-to-text-transfer-transformer if you want to scale up the model\n",
    "MODEL_SIZE = \"small\"  \n",
    "\n",
    "MODEL_DIR = 'gs://comment_example/pretrained_model_extra_id'\n",
    "\n",
    "\n",
    "model_parallelism, train_batch_size, keep_checkpoint_max = {\n",
    "    \"small\": (1, 256, 16),\n",
    "    \"base\": (2, 128, 8),\n",
    "    \"large\": (8, 64, 4),\n",
    "    \"3B\": (8, 16, 1),\n",
    "    \"11B\": (8, 16, 1)}[MODEL_SIZE]\n",
    "\n",
    "\n",
    "tf.io.gfile.makedirs(MODEL_DIR)\n",
    "\n",
    "model = t5.models.MtfModel(\n",
    "    model_dir=MODEL_DIR,\n",
    "    tpu=TPU_ADDRESS,\n",
    "    tpu_topology=TPU_TOPOLOGY,\n",
    "    model_parallelism=model_parallelism,\n",
    "    batch_size=train_batch_size,\n",
    "    sequence_length={\"inputs\": 256, \"targets\": 256},\n",
    "    learning_rate_schedule = learning_rate_schedule_noam,\n",
    "    save_checkpoints_steps=5000,\n",
    "    keep_checkpoint_max=keep_checkpoint_max if ON_CLOUD else None\n",
    ")"
   ]
  },
  {
   "cell_type": "code",
   "execution_count": null,
   "metadata": {
    "colab": {
     "base_uri": "https://localhost:8080/"
    },
    "id": "tmdx3v9z8DY6",
    "outputId": "ccab51d7-e6d4-41eb-f44d-7fa1d67bfde6"
   },
   "outputs": [],
   "source": [
    "PATH_GIN_FILE = 'gs://comment_example/pretrained_model_extra_id/operative_config.gin'\n",
    "import gin\n",
    "with gin.unlock_config():\n",
    "    gin.parse_config_file(PATH_GIN_FILE)\n",
    "    TRAIN_STEPS = 200000\n",
    "    model.train(\"pretraining\", steps=TRAIN_STEPS)"
   ]
  }
 ],
 "metadata": {
  "accelerator": "TPU",
  "colab": {
   "collapsed_sections": [],
   "machine_shape": "hm",
   "name": "pretrain.ipynb",
   "provenance": []
  },
  "kernelspec": {
   "display_name": "Python 3",
   "language": "python",
   "name": "python3"
  },
  "language_info": {
   "codemirror_mode": {
    "name": "ipython",
    "version": 3
   },
   "file_extension": ".py",
   "mimetype": "text/x-python",
   "name": "python",
   "nbconvert_exporter": "python",
   "pygments_lexer": "ipython3",
   "version": "3.8.3"
  }
 },
 "nbformat": 4,
 "nbformat_minor": 1
}
